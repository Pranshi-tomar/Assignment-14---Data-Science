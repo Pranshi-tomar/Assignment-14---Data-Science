{
 "cells": [
  {
   "attachments": {},
   "cell_type": "markdown",
   "metadata": {},
   "source": [
    "Q1. Explain why we have to use the Exception class while creating a Custom Exception."
   ]
  },
  {
   "attachments": {},
   "cell_type": "markdown",
   "metadata": {},
   "source": [
    "Ans.  Python. When creating a custom exception, it is recommended to inherit from the Exception class or one of its subclasses. \n",
    "1. Consistency: By inheriting from the Exception class, your custom exception will adhere to the same design principles and behavior as other built-in exceptions. This promotes consistency and familiarity for developers who are accustomed to working with exceptions in the language.\n",
    "\n",
    "2. Hierarchy and organization: The Exception class is part of a hierarchical structure that allows exceptions to be categorized based on their type and purpose. By utilizing this structure, you can place your custom exception in the appropriate hierarchy, making it easier for other developers to understand and handle your exception in a consistent manner.\n",
    "\n",
    "3. Error handling and catching: When an exception is raised, it can be caught and handled using try-except blocks. By inheriting from the Exception class, your custom exception can be caught alongside other exceptions, allowing for more effective and centralized error handling in your code. Without inheriting from a common base class, catching your custom exception would require separate handling logic, making the code more complex.\n",
    "\n",
    "4. Documentation and clarity: By using the Exception class as the base for your custom exception, you benefit from the existing documentation and conventions associated with exceptions. Developers familiar with the Exception class will have a good understanding of how your custom exception should be used and handled. Furthermore, using a well-known base class enhances code readability and maintainability for others who may work on your code in the future."
   ]
  },
  {
   "attachments": {},
   "cell_type": "markdown",
   "metadata": {},
   "source": [
    "Q2. Write a python program to print Python Exception Hierarchy."
   ]
  },
  {
   "cell_type": "code",
   "execution_count": 1,
   "metadata": {},
   "outputs": [],
   "source": [
    "import  logging\n",
    "logging.basicConfig(filename=\"h1.txt\",level = logging.INFO)\n",
    "def print_exception_hierarchy(exception_class, indent=0):\n",
    "    logging.info(' ' * indent + exception_class.__name__)\n",
    "    for subclass in exception_class.__subclasses__():\n",
    "        print_exception_hierarchy(subclass, indent + 4)\n",
    "\n",
    "\n",
    "# Print the exception hierarchy starting from the base Exception class\n",
    "print_exception_hierarchy(Exception)"
   ]
  },
  {
   "attachments": {},
   "cell_type": "markdown",
   "metadata": {},
   "source": [
    "Q3. What errors are defined in the ArithmeticError class? Explain any two with an example."
   ]
  },
  {
   "attachments": {},
   "cell_type": "markdown",
   "metadata": {},
   "source": [
    "Ans. Here are some errors that are defined as subclasses of ArithmeticError :\n",
    "\n",
    "1. FloatingPointError: This exception is raised when a floating-point calculation fails or encounters an error. It can be caused by operations like division by zero, an invalid operation, or overflow/underflow conditions related to floating-point numbers.\n",
    "\n",
    "2. OverflowError: This exception is raised when an arithmetic operation exceeds the maximum representable value. It occurs when a calculation results in a value that is too large to be stored in the variable's data type.\n",
    "\n",
    "3. ZeroDivisionError: This exception is raised when there is an attempt to divide a number by zero. It occurs when the denominator in a division operation is zero, which is mathematically undefined.\n",
    "\n",
    "4. ArithmeticError: This exception is a generic arithmetic error and serves as the base class for more specific arithmetic-related exceptions. It is typically not raised directly but provides a common base for other arithmetic exceptions."
   ]
  },
  {
   "cell_type": "code",
   "execution_count": 2,
   "metadata": {},
   "outputs": [],
   "source": [
    "import logging\n",
    "logging.basicConfig(filename =\"h1.txt\",level = logging.INFO)\n",
    "try:\n",
    "    1.0/0.0\n",
    "except Exception as e:\n",
    "    logging.error(\"floating point error {}\".format(e))"
   ]
  },
  {
   "cell_type": "code",
   "execution_count": 3,
   "metadata": {},
   "outputs": [],
   "source": [
    "import logging\n",
    "logging.basicConfig(filename =\"h1.txt\",level = logging.INFO)\n",
    "try:\n",
    "    5/0\n",
    "except ZeroDivisionError as e:\n",
    "    logging.error(\"Zero Division error {}\".format(e))"
   ]
  },
  {
   "attachments": {},
   "cell_type": "markdown",
   "metadata": {},
   "source": [
    "Q4. Why LookupError class is used? Explain with an example KeyError and IndexError."
   ]
  },
  {
   "attachments": {},
   "cell_type": "markdown",
   "metadata": {},
   "source": [
    "Ans. LookupError class is a base class for exceptions that occur when a lookup or indexing operation fails. It serves as a parent class for more specific lookup-related exception classes. The main purpose of LookupError is to provide a common base for exceptions that involve lookup or indexing operations, allowing for consistent error handling."
   ]
  },
  {
   "attachments": {},
   "cell_type": "markdown",
   "metadata": {},
   "source": [
    "1. KeyError: This exception is raised when a dictionary or a mapping type is accessed using a key that does not exist in the dictionary. It occurs when an invalid key is used to access a value.\n",
    "\n",
    "Example:"
   ]
  },
  {
   "cell_type": "code",
   "execution_count": 4,
   "metadata": {},
   "outputs": [],
   "source": [
    "import logging\n",
    "logging.basicConfig(filename =\"h1.txt\",level = logging.INFO)\n",
    "dic={\"name\":\"Pranshi tomar\",\"age\":18}\n",
    "try:\n",
    "    logging.info(dic[\"email_id\"])\n",
    "except KeyError as e:\n",
    "    logging.error(\"Key error {}\".format(e))"
   ]
  },
  {
   "attachments": {},
   "cell_type": "markdown",
   "metadata": {},
   "source": [
    "2. IndexError: This exception is raised when a sequence (such as a list or a string) is accessed using an invalid index. It occurs when an index value is out of range or does not exist in the sequence.\n",
    "\n",
    "Example:"
   ]
  },
  {
   "cell_type": "code",
   "execution_count": 5,
   "metadata": {},
   "outputs": [],
   "source": [
    "import logging\n",
    "logging.basicConfig(filename =\"h1.txt\",level = logging.INFO)\n",
    "arr=[1,2,3,4,5,6,7,8]\n",
    "try:\n",
    "    logging.info(arr[8])\n",
    "except IndexError as e:\n",
    "    logging.error(\"out of index error {}\".format(e))"
   ]
  },
  {
   "attachments": {},
   "cell_type": "markdown",
   "metadata": {},
   "source": [
    "Q5. Explain ImportError. What is ModuleNotFoundError?"
   ]
  },
  {
   "attachments": {},
   "cell_type": "markdown",
   "metadata": {},
   "source": [
    "ImportError :- ImportError is an exception class in Python that is raised when an import statement fails to import a module. It is a subclass of the Exception class. This exception typically occurs when there are issues with finding, loading, or executing the specified module.\n",
    "\n",
    "Module not found Error: The Python interpreter is unable to locate the module specified in the import statement. This could happen if the module is not installed or if its name is misspelled.When the Python interpreter encounters a situation where the specified module cannot be found, it raises a ModuleNotFoundError rather than a general ImportError.it is a subclass of ImportError\n",
    "\n"
   ]
  },
  {
   "attachments": {},
   "cell_type": "markdown",
   "metadata": {},
   "source": [
    "Q6. List down some best practices for exception handling in python."
   ]
  },
  {
   "attachments": {},
   "cell_type": "markdown",
   "metadata": {},
   "source": [
    "Ans. Exception handling is an important aspect of writing robust and reliable Python code. Here are some best practices for exception handling in Python:\n",
    "\n",
    "1. Use specific exception types: Catching specific exception types allows you to handle different errors differently. Instead of using a generic except statement, catch only the exceptions you expect and handle them appropriately. This helps in better error identification and troubleshooting.\n",
    "\n",
    "2. Use try-except blocks: Wrap the code that may raise an exception within a try block and catch the exception(s) with an appropriate except block. This allows you to handle exceptions gracefully and prevent your program from crashing.\n",
    "\n",
    "3. Avoid catching all exceptions: Avoid using a broad except statement to catch all exceptions (except Exception:) unless absolutely necessary. This can hide errors and make debugging difficult. Instead, catch specific exceptions or use multiple except blocks for different exception types.\n",
    "\n",
    "4. Handle exceptions at the right level: Place your exception handling code at an appropriate level. If you can handle the exception at a lower level, do so; otherwise, let it propagate to a higher level where it can be handled more effectively.\n",
    "\n",
    "5. Use finally blocks: Use finally blocks to specify code that should be executed regardless of whether an exception occurred or not. This can be useful for releasing resources or cleaning up operations.\n",
    "\n",
    "6. Log or report exceptions: It's important to log or report exceptions to help diagnose and debug issues. Use a logging framework to capture exception details, including the stack trace, and any other relevant information. This can assist in identifying the cause of the exception and fixing the underlying problem.\n",
    "\n",
    "7. Graceful error messages: Provide meaningful error messages when handling exceptions. The error messages should clearly indicate what went wrong and provide guidance to the user on how to resolve the issue or contact support.\n",
    "\n",
    "8. Avoid bare except blocks: Avoid using bare except blocks (except:) without specifying the exception type. This can lead to unexpected behavior and obscure errors. Always catch specific exceptions or at least catch the generic Exception type.\n",
    "\n",
    "9. Reraise exceptions selectively: In some cases, it may be appropriate to catch an exception, perform some additional actions, and then reraise the same exception or a different one. This allows for custom error handling and can provide more context-specific information.\n",
    "\n",
    "10. Test exception handling: Ensure that you test your code thoroughly, including exception handling scenarios. Create test cases that intentionally raise exceptions and verify that they are handled as expected."
   ]
  }
 ],
 "metadata": {
  "kernelspec": {
   "display_name": "Python 3",
   "language": "python",
   "name": "python3"
  },
  "language_info": {
   "codemirror_mode": {
    "name": "ipython",
    "version": 3
   },
   "file_extension": ".py",
   "mimetype": "text/x-python",
   "name": "python",
   "nbconvert_exporter": "python",
   "pygments_lexer": "ipython3",
   "version": "3.10.0"
  },
  "orig_nbformat": 4
 },
 "nbformat": 4,
 "nbformat_minor": 2
}
